{
 "cells": [
  {
   "cell_type": "code",
   "execution_count": null,
   "metadata": {},
   "outputs": [],
   "source": [
    "\"\"\"\n",
    "将华氏温度转换为摄氏温度\n",
    "F = 1.8c + 32\n",
    "\"\"\""
   ]
  },
  {
   "cell_type": "code",
   "execution_count": 1,
   "metadata": {},
   "outputs": [
    {
     "name": "stdout",
     "output_type": "stream",
     "text": [
      "请输入华氏温度：221\n",
      "221.0华氏度 = 105.0摄氏度\n"
     ]
    }
   ],
   "source": [
    "f = float(input('请输入华氏温度：'))\n",
    "c = (f-32) / 1.8\n",
    "print('%.1f华氏度 = %.1f摄氏度' % (f,c))"
   ]
  },
  {
   "cell_type": "code",
   "execution_count": null,
   "metadata": {},
   "outputs": [],
   "source": [
    "\"\"\"\n",
    "输入半径计算的周长和面积\n",
    "\"\"\""
   ]
  },
  {
   "cell_type": "code",
   "execution_count": 2,
   "metadata": {},
   "outputs": [],
   "source": [
    "import math"
   ]
  },
  {
   "cell_type": "code",
   "execution_count": 3,
   "metadata": {},
   "outputs": [
    {
     "name": "stdout",
     "output_type": "stream",
     "text": [
      "请输入圆的半径：5\n",
      "周长：31.42\n",
      "面积：78.54\n"
     ]
    }
   ],
   "source": [
    "radius = float(input('请输入圆的半径：'))\n",
    "perimeter = 2 * math.pi * radius\n",
    "area = math.pi * radius * radius\n",
    "print('周长：%.2f' % perimeter)\n",
    "print('面积：%.2f' % area)"
   ]
  },
  {
   "cell_type": "code",
   "execution_count": null,
   "metadata": {},
   "outputs": [],
   "source": [
    "\"\"\"\n",
    "输入年份 如果是闰年输出ture 否则输出false\n",
    "\"\"\""
   ]
  },
  {
   "cell_type": "code",
   "execution_count": 4,
   "metadata": {},
   "outputs": [
    {
     "name": "stdout",
     "output_type": "stream",
     "text": [
      "请输入年份：2014\n",
      "False\n"
     ]
    }
   ],
   "source": [
    "year = int(input('请输入年份：'))\n",
    "is_leap = (year % 4 == 0 and year % 100 != 0 or \n",
    "          year % 400 ==0)\n",
    "print(is_leap)"
   ]
  },
  {
   "cell_type": "code",
   "execution_count": null,
   "metadata": {},
   "outputs": [],
   "source": [
    "\"\"\"\n",
    "使用input函数输入\n",
    "使用int（）进行类型转换\n",
    "用占位符格式化输出的字符串\n",
    "\"\"\""
   ]
  },
  {
   "cell_type": "code",
   "execution_count": 2,
   "metadata": {},
   "outputs": [
    {
     "name": "stdout",
     "output_type": "stream",
     "text": [
      "a = 12\n",
      "b = 23\n",
      "12 + 23 = 35\n",
      "12 - 23 = -11\n",
      "12 * 23 = 276\n",
      "12 / 23 = 0\n",
      "12 // 23 = 0\n",
      "12 ** 23 = 6624737266949237011120128\n"
     ]
    }
   ],
   "source": [
    "a = int(input('a = '))\n",
    "b = int(input('b = '))\n",
    "print('%d + %d = %d' %(a,b,a+b))\n",
    "print('%d - %d = %d' %(a,b,a-b))\n",
    "print('%d * %d = %d' %(a,b,a*b))\n",
    "print('%d / %d = %d' %(a,b,a/b))\n",
    "print('%d // %d = %d' %(a,b,a//b))\n",
    "print('%d ** %d = %d' %(a,b,a**b))"
   ]
  },
  {
   "cell_type": "code",
   "execution_count": null,
   "metadata": {},
   "outputs": [],
   "source": [
    "\"\"\"\n",
    "使用type（）检查白变量的类型\n",
    "\"\"\""
   ]
  },
  {
   "cell_type": "code",
   "execution_count": 4,
   "metadata": {},
   "outputs": [
    {
     "name": "stdout",
     "output_type": "stream",
     "text": [
      "<class 'int'>\n",
      "<class 'float'>\n",
      "<class 'complex'>\n",
      "<class 'str'>\n",
      "<class 'bool'>\n"
     ]
    }
   ],
   "source": [
    "a = 100\n",
    "b = 12.345\n",
    "c = 1 + 5j\n",
    "d = 'hello , word'\n",
    "e = True\n",
    "print(type(a))\n",
    "print(type(b))\n",
    "print(type(c))\n",
    "print(type(d))\n",
    "print(type(e))"
   ]
  },
  {
   "cell_type": "code",
   "execution_count": null,
   "metadata": {},
   "outputs": [],
   "source": [
    "\"\"\"\n",
    "运算符的使用\n",
    "\"\"\""
   ]
  },
  {
   "cell_type": "code",
   "execution_count": 7,
   "metadata": {},
   "outputs": [
    {
     "name": "stdout",
     "output_type": "stream",
     "text": [
      "a =  9.6\n",
      "flag1= True\n",
      "flag2= False\n",
      "flag3= False\n",
      "flag4= True\n",
      "flag5= True\n",
      "True\n",
      "False\n"
     ]
    }
   ],
   "source": [
    "a = 5\n",
    "b = 10\n",
    "c = 3\n",
    "d = 4\n",
    "e = 5\n",
    "a += b\n",
    "a -= c\n",
    "a *= d\n",
    "a /= e\n",
    "print(\"a = \",a)\n",
    "\n",
    "flag1 = 3 > 2\n",
    "flag2 = 2 < 1\n",
    "flag3 = flag1 and flag2\n",
    "flag4 = flag1 or flag2\n",
    "flag5 = not flag2\n",
    "print(\"flag1=\",flag1)\n",
    "\n",
    "print(\"flag2=\",flag2)\n",
    "print(\"flag3=\",flag3)\n",
    "print(\"flag4=\",flag4)\n",
    "print(\"flag5=\",flag5)\n",
    "print(flag1 is True)\n",
    "print(flag2 is not False)\n"
   ]
  },
  {
   "cell_type": "code",
   "execution_count": 1,
   "metadata": {},
   "outputs": [],
   "source": [
    "import time\n",
    "import numpy as np\n",
    "import matplotlib.pyplot as plt\n",
    "from sklearn.datasets import load_iris\n",
    "from sklearn.model_selection import train_test_split"
   ]
  },
  {
   "cell_type": "markdown",
   "metadata": {},
   "source": [
    "迭代 w, b寻找最优值，和减少误差"
   ]
  },
  {
   "cell_type": "code",
   "execution_count": 2,
   "metadata": {},
   "outputs": [],
   "source": [
    "data,target = load_iris()['data'][:100],load_iris()['target'][:100]"
   ]
  },
  {
   "cell_type": "code",
   "execution_count": 3,
   "metadata": {},
   "outputs": [],
   "source": [
    "X_train, X_test, y_train, y_test = train_test_split(data, target, test_size=0.3)\n"
   ]
  },
  {
   "cell_type": "code",
   "execution_count": 4,
   "metadata": {},
   "outputs": [
    {
     "data": {
      "text/plain": [
       "(70, 4)"
      ]
     },
     "execution_count": 4,
     "metadata": {},
     "output_type": "execute_result"
    }
   ],
   "source": [
    "X_train.shape"
   ]
  },
  {
   "cell_type": "code",
   "execution_count": 5,
   "metadata": {},
   "outputs": [
    {
     "data": {
      "text/plain": [
       "(70,)"
      ]
     },
     "execution_count": 5,
     "metadata": {},
     "output_type": "execute_result"
    }
   ],
   "source": [
    "y_train.shape"
   ]
  },
  {
   "cell_type": "code",
   "execution_count": 13,
   "metadata": {},
   "outputs": [],
   "source": [
    "class UP():\n",
    "    \n",
    "    def __init__(self,alpha,epochs):\n",
    "        self.alpha = alpha\n",
    "        self.epochs = epochs\n",
    "#         self.a = a\n",
    "        \n",
    "    def initia(self,n):\n",
    "        w= np.zeros(shape=(n,1))\n",
    "        b = 0\n",
    "        return w,b\n",
    "    \n",
    "    def sigmoid(self,z):\n",
    "        return 1/(1+np.exp(-z))\n",
    "    \n",
    "    def fit(self,data,y):\n",
    "        m,n = data.shape\n",
    "        w,b = self.initia(n)\n",
    "        for i in range(self.epochs):\n",
    "            time.sleep(0.1)\n",
    "            z = np.dot(data,w) + b\n",
    "            A = self.sigmoid(z)\n",
    "            y = np.reshape(y,(m,1))\n",
    "#             if loss == orange:\n",
    "            loss = - np.sum(y*np.log(A) + (1-y)*np.log(1-A)) / m\n",
    "#             elif L1 == L1:\n",
    "                \n",
    "#                 L1 = -np.sum[y*np.log(A) - (1 - y) * np.log(A)] / m +a*sgn(w) \n",
    "#             elif L2 == L2:\n",
    "#                 L2 = -np.sum[y*np.log(A) - (1 - y) * np.log(A) ] / m+a*w \n",
    "            dz = A - y\n",
    "            dw = np.dot(data.T,dz) / m\n",
    "            db = np.sum(dz,keepdims=True,axis=0) / m\n",
    "            w = w - self.alpha * dw\n",
    "            b = b - self.alpha * db\n",
    "            acc = self.score(data,y,w,b)\n",
    "            print('\\033[5;36;47m [%d/%d] loss is :%f acc(train):%f \\r'% (i + 1,self.epochs,loss,acc),end=\"\",flush=True)\n",
    "        return w,b\n",
    "    \n",
    "    def score(self,data,y,w,b):\n",
    "        z = np.dot(data,w) + b\n",
    "        A = self.sigmoid(z) \n",
    "        y_hat = np.round(A)\n",
    "        acc = (y_hat == y).sum() / y.size\n",
    "        return acc\n",
    "    "
   ]
  },
  {
   "cell_type": "code",
   "execution_count": 14,
   "metadata": {},
   "outputs": [
    {
     "name": "stdout",
     "output_type": "stream",
     "text": [
      "\u001b[5;36;47m [100/100] loss is :0.396258 acc(train):1.000000 \r"
     ]
    }
   ],
   "source": [
    "up = UP(0.01,100)\n",
    "w,b = up.fit(data=X_train,y=y_train)"
   ]
  },
  {
   "cell_type": "code",
   "execution_count": null,
   "metadata": {},
   "outputs": [],
   "source": []
  }
 ],
 "metadata": {
  "kernelspec": {
   "display_name": "Python 3",
   "language": "python",
   "name": "python3"
  },
  "language_info": {
   "codemirror_mode": {
    "name": "ipython",
    "version": 3
   },
   "file_extension": ".py",
   "mimetype": "text/x-python",
   "name": "python",
   "nbconvert_exporter": "python",
   "pygments_lexer": "ipython3",
   "version": "3.6.4"
  }
 },
 "nbformat": 4,
 "nbformat_minor": 2
}
