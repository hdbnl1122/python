{
 "cells": [
  {
   "cell_type": "code",
   "execution_count": 3,
   "metadata": {},
   "outputs": [],
   "source": [
    "import numpy as np"
   ]
  },
  {
   "cell_type": "code",
   "execution_count": 7,
   "metadata": {},
   "outputs": [
    {
     "data": {
      "text/plain": [
       "0.8879430945988998"
      ]
     },
     "execution_count": 7,
     "metadata": {},
     "output_type": "execute_result"
    }
   ],
   "source": [
    "E_A_Q = 5/15*(-3/5*np.log2(3/5)-2/5*np.log2(2/5))\n",
    "E_A_Z = 5/15*(-2/5*np.log2(2/5)-3/5*np.log2(3/5))\n",
    "E_A_L = 5/15*(-1/5*np.log2(1/5)-4/5*np.log2(4/5))\n",
    "E_A = E_A_Q+E_A_Z+E_A_L\n",
    "E_A"
   ]
  },
  {
   "cell_type": "code",
   "execution_count": 8,
   "metadata": {
    "scrolled": false
   },
   "outputs": [
    {
     "data": {
      "text/plain": [
       "0.6473003963031123"
      ]
     },
     "execution_count": 8,
     "metadata": {},
     "output_type": "execute_result"
    }
   ],
   "source": [
    "E_W_Y = 5/15*(-5/5*np.log2(5/5)-0)\n",
    "E_W_N = 10/15*(-6/10*np.log2(6/10)-4/10*np.log2(4/10))\n",
    "E_W = E_W_Y + E_W_N\n",
    "E_W\n"
   ]
  },
  {
   "cell_type": "code",
   "execution_count": 9,
   "metadata": {},
   "outputs": [
    {
     "data": {
      "text/plain": [
       "0.5509775004326937"
      ]
     },
     "execution_count": 9,
     "metadata": {},
     "output_type": "execute_result"
    }
   ],
   "source": [
    "E_H_Y = 6/15*(-6/6*np.log2(6/6)-0)\n",
    "E_H_N = 9/15*(-6/9*np.log2(6/9)-3/9*np.log2(3/9))\n",
    "E_H = E_H_Y + E_H_N\n",
    "E_H\n"
   ]
  },
  {
   "cell_type": "code",
   "execution_count": 10,
   "metadata": {},
   "outputs": [
    {
     "data": {
      "text/plain": [
       "0.6079610319175832"
      ]
     },
     "execution_count": 10,
     "metadata": {},
     "output_type": "execute_result"
    }
   ],
   "source": [
    "E_B_Y = 5/15*(-4/5*np.log2(4/5)-1/5*np.log2(1/5))\n",
    "E_B_G = 6/15*(-2/6*np.log2(2/6)-4/6*np.log2(4/6))\n",
    "E_B_V = 4/15*(-4/4*np.log2(4/4)-0)\n",
    "E_B = E_B_Y + E_B_G + E_B_V\n",
    "E_B\n",
    "\n"
   ]
  },
  {
   "cell_type": "code",
   "execution_count": 13,
   "metadata": {},
   "outputs": [
    {
     "data": {
      "text/plain": [
       "0.6666666666666666"
      ]
     },
     "execution_count": 13,
     "metadata": {},
     "output_type": "execute_result"
    }
   ],
   "source": [
    "E2_A_Q = 4/9*(-3/4*np.log2(3/4)-1/4*np.log2(1/4))\n",
    "E2_A_Z = 2/9*(-2/2*np.log2(2/2)-0)\n",
    "E2_A_L = 3/9*(-1/3*np.log2(1/3)-2/3*np.log2(2/3))\n",
    "E2_A = E2_A_Q + E2_A_Z + E2_A_L\n",
    "E2_A"
   ]
  },
  {
   "cell_type": "code",
   "execution_count": 14,
   "metadata": {},
   "outputs": [
    {
     "data": {
      "text/plain": [
       "-0.0"
      ]
     },
     "execution_count": 14,
     "metadata": {},
     "output_type": "execute_result"
    }
   ],
   "source": [
    "E2_W_Y = 3/9*(-3/3*np.log2(3/3)-0)\n",
    "E2_W_N = 6/9*(-6/6*np.log2(6/6)-0)\n",
    "E2_W = E2_W_Y + E2_W_N\n",
    "E2_W\n"
   ]
  },
  {
   "cell_type": "code",
   "execution_count": 15,
   "metadata": {},
   "outputs": [
    {
     "data": {
      "text/plain": [
       "0.0"
      ]
     },
     "execution_count": 15,
     "metadata": {},
     "output_type": "execute_result"
    }
   ],
   "source": [
    "E2_B_Y = 4/9*(-4/4*np.log2(4/4)-0)\n",
    "E2_B_G = 4/9*(-2/4*np.log2(2/4)--2/4*np.log2(2/4))\n",
    "E2_B_V = 1/9*(-1*np.log2(1)-0)\n",
    "E2_B = E2_B_Y + E2_B_G +E2_B_V\n",
    "E2_B\n"
   ]
  },
  {
   "cell_type": "code",
   "execution_count": null,
   "metadata": {},
   "outputs": [],
   "source": []
  }
 ],
 "metadata": {
  "kernelspec": {
   "display_name": "Python 3",
   "language": "python",
   "name": "python3"
  },
  "language_info": {
   "codemirror_mode": {
    "name": "ipython",
    "version": 3
   },
   "file_extension": ".py",
   "mimetype": "text/x-python",
   "name": "python",
   "nbconvert_exporter": "python",
   "pygments_lexer": "ipython3",
   "version": "3.6.4"
  }
 },
 "nbformat": 4,
 "nbformat_minor": 2
}
