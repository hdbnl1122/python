{
 "cells": [
  {
   "cell_type": "code",
   "execution_count": 36,
   "metadata": {},
   "outputs": [],
   "source": [
    "path = \"D:/Classic_machine_learning-master/data_set/testDigits/0_0.txt\""
   ]
  },
  {
   "cell_type": "code",
   "execution_count": 37,
   "metadata": {},
   "outputs": [],
   "source": [
    "import numpy as np"
   ]
  },
  {
   "cell_type": "code",
   "execution_count": 53,
   "metadata": {
    "scrolled": false
   },
   "outputs": [
    {
     "name": "stdout",
     "output_type": "stream",
     "text": [
      "[['00000000000001100000000000000000' '00000000000011111100000000000000'\n",
      "  '00000000000111111111000000000000' '00000000011111111111000000000000'\n",
      "  '00000001111111111111100000000000' '00000000111111100011110000000000'\n",
      "  '00000001111110000001110000000000' '00000001111110000001110000000000'\n",
      "  '00000011111100000001110000000000' '00000011111100000001111000000000'\n",
      "  '00000011111100000000011100000000' '00000011111100000000011100000000'\n",
      "  '00000011111000000000001110000000' '00000011111000000000001110000000'\n",
      "  '00000001111100000000000111000000' '00000001111100000000000111000000'\n",
      "  '00000001111100000000000111000000' '00000011111000000000000111000000'\n",
      "  '00000011111000000000000111000000' '00000000111100000000000011100000'\n",
      "  '00000000111100000000000111100000' '00000000111100000000000111100000'\n",
      "  '00000000111100000000001111100000' '00000000011110000000000111110000'\n",
      "  '00000000011111000000001111100000' '00000000011111000000011111100000'\n",
      "  '00000000011111000000111111000000' '00000000011111100011111111000000'\n",
      "  '00000000000111111111111110000000' '00000000000111111111111100000000'\n",
      "  '00000000000011111111110000000000' '00000000000000111110000000000000'\n",
      "  '']]\n"
     ]
    }
   ],
   "source": [
    "data = []\n",
    "open_file  = open(file=path,mode='r',encoding='gbk')\n",
    "lins = open_file.read()\n",
    "jiag = lins.split('\\n')\n",
    "#print(jiag)\n",
    "#\n",
    "#for ha in jiag:\n",
    "    #wan = (ha.split('\\t'))\n",
    "    #print(data)\n",
    "data.append(jiag)\n",
    "#for i in range(len(wan)):\n",
    "#     if wan[i] ==[]:\n",
    "#         del wan[i]\n",
    "#         hd=float(wan[i])\n",
    "#print(wan)\n",
    "         \n",
    "\n",
    "open_file.close()\n",
    "data = np.array(data)\n",
    "print(data)\n"
   ]
  },
  {
   "cell_type": "code",
   "execution_count": 1,
   "metadata": {},
   "outputs": [
    {
     "ename": "NameError",
     "evalue": "name 'data' is not defined",
     "output_type": "error",
     "traceback": [
      "\u001b[1;31m---------------------------------------------------------------------------\u001b[0m",
      "\u001b[1;31mNameError\u001b[0m                                 Traceback (most recent call last)",
      "\u001b[1;32m<ipython-input-1-c5d84736ba45>\u001b[0m in \u001b[0;36m<module>\u001b[1;34m()\u001b[0m\n\u001b[1;32m----> 1\u001b[1;33m \u001b[0mdata\u001b[0m\u001b[1;33m\u001b[0m\u001b[0m\n\u001b[0m",
      "\u001b[1;31mNameError\u001b[0m: name 'data' is not defined"
     ]
    }
   ],
   "source": [
    "data"
   ]
  },
  {
   "cell_type": "code",
   "execution_count": null,
   "metadata": {},
   "outputs": [],
   "source": []
  }
 ],
 "metadata": {
  "kernelspec": {
   "display_name": "Python 3",
   "language": "python",
   "name": "python3"
  },
  "language_info": {
   "codemirror_mode": {
    "name": "ipython",
    "version": 3
   },
   "file_extension": ".py",
   "mimetype": "text/x-python",
   "name": "python",
   "nbconvert_exporter": "python",
   "pygments_lexer": "ipython3",
   "version": "3.6.4"
  }
 },
 "nbformat": 4,
 "nbformat_minor": 2
}
